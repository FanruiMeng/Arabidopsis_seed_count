1. Tensorflow object detection API installation, tensorflow version lower than 2.0.
please see: https://github.com/tensorflow/models/blob/master/research/object_detection/g3doc/installation.md
